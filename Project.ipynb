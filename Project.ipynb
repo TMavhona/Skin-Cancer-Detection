{
 "cells": [
  {
   "cell_type": "markdown",
   "metadata": {},
   "source": [
    "# Import all nercessary libraries "
   ]
  },
  {
   "cell_type": "code",
   "execution_count": 1,
   "metadata": {},
   "outputs": [],
   "source": [
    "import numpy as np\n",
    "import matplotlib.image as mpimg \n",
    "import matplotlib.pyplot as plt \n",
    "import math\n",
    "from skimage.transform import resize\n",
    "from skimage import io\n",
    "from sklearn import svm\n",
    "import sklearn\n",
    "from sklearn.decomposition import PCA"
   ]
  },
  {
   "cell_type": "markdown",
   "metadata": {},
   "source": [
    "## getFeature function used to get features of an image"
   ]
  },
  {
   "cell_type": "code",
   "execution_count": 2,
   "metadata": {},
   "outputs": [],
   "source": [
    "##Inputs: img, the image to get features for. label, the class the img belongs to, note that class defaults to 0\n",
    "def getFeature(img,label=0):\n",
    "    img=resize(img, (27,27))\n",
    "    Matrix=img.reshape(-1,3).reshape(1,-1)\n",
    "    Matrix=np.append (Matrix,[label])\n",
    "    return Matrix"
   ]
  },
  {
   "cell_type": "markdown",
   "metadata": {},
   "source": [
    "## Metric function is used to calculate the distance of two vector points"
   ]
  },
  {
   "cell_type": "code",
   "execution_count": 3,
   "metadata": {},
   "outputs": [],
   "source": [
    "def metric(q):\n",
    "    dist=np.sum((x_train[:,:-1]-q)**2,axis=1)\n",
    "    return np.sqrt(dist)"
   ]
  },
  {
   "cell_type": "markdown",
   "metadata": {},
   "source": [
    "## get data Fuction used to get images and represent them using it's fearture"
   ]
  },
  {
   "cell_type": "code",
   "execution_count": 4,
   "metadata": {},
   "outputs": [],
   "source": [
    "def getData(path1,path2):\n",
    "    benign= io.imread_collection(path1)\n",
    "    malignant = io.imread_collection(path2)\n",
    "    data=[]\n",
    "    for i in benign:\n",
    "        data.append(getFeature(i))\n",
    "    for i in malignant:\n",
    "        data.append(getFeature(i,1))\n",
    "    return data\n"
   ]
  },
  {
   "cell_type": "markdown",
   "metadata": {},
   "source": [
    "## K- Nearest Neighbor Algorithm"
   ]
  },
  {
   "cell_type": "code",
   "execution_count": 5,
   "metadata": {},
   "outputs": [],
   "source": [
    "def kn(q,k):\n",
    "    dista=metric(q)\n",
    "    #sort\n",
    "    idx=np.argsort(dista)\n",
    "    dista=dista[idx]\n",
    "    neigh=x_train[idx]\n",
    "       \n",
    "    return dista[:k],neigh[:k,-1].astype(int)"
   ]
  },
  {
   "cell_type": "markdown",
   "metadata": {},
   "source": [
    "## Classifying function using KNN ouput"
   ]
  },
  {
   "cell_type": "code",
   "execution_count": 6,
   "metadata": {},
   "outputs": [],
   "source": [
    "def classify(q,k):\n",
    "    d,l=kn(q,k)\n",
    "    \n",
    "    ones=np.count_nonzero(l==1)\n",
    "    zeros=np.count_nonzero(l==0)\n",
    "    \n",
    "    if ones>zeros:\n",
    "        return 1\n",
    "    else:\n",
    "        return 0"
   ]
  },
  {
   "cell_type": "markdown",
   "metadata": {},
   "source": [
    "## get training data using the getData fucntion and preprocesss data"
   ]
  },
  {
   "cell_type": "code",
   "execution_count": 7,
   "metadata": {},
   "outputs": [],
   "source": [
    "path1train='train/benign/*.jpg'\n",
    "path2train='train/malignant/*.jpg'\n",
    "training=getData(path1train,path2train)"
   ]
  },
  {
   "cell_type": "markdown",
   "metadata": {},
   "source": [
    "## get testing data using the getData fucntion and preprocesss data"
   ]
  },
  {
   "cell_type": "code",
   "execution_count": 308,
   "metadata": {},
   "outputs": [],
   "source": [
    "path1test='test/benign/*.jpg'\n",
    "path2test='test/malignant/*.jpg'\n",
    "testing=getData(path1test,path2test)"
   ]
  },
  {
   "cell_type": "markdown",
   "metadata": {},
   "source": [
    "## Get acccuracy for training and testing data"
   ]
  },
  {
   "cell_type": "code",
   "execution_count": 309,
   "metadata": {},
   "outputs": [],
   "source": [
    "def train_test(k):\n",
    "    c=0\n",
    "    for q in x_train:\n",
    "        l=q[-1]\n",
    "        q=q[:-1]\n",
    "        \n",
    "        p=classify(q,k)\n",
    "        \n",
    "        if p==l:\n",
    "            c=c+1\n",
    "            \n",
    "    return c/len(x_train)\n",
    "def test(k):\n",
    "    c=0\n",
    "    for q in x_test:\n",
    "        l=q[-1]\n",
    "        q=q[:-1]\n",
    "        \n",
    "        p=classify(q,k)\n",
    "        \n",
    "        if p==l:\n",
    "            c=c+1\n",
    "            \n",
    "    return c/len(x_test)"
   ]
  },
  {
   "cell_type": "markdown",
   "metadata": {},
   "source": [
    "## print accuracy for training data to pick best K"
   ]
  },
  {
   "cell_type": "code",
   "execution_count": 310,
   "metadata": {},
   "outputs": [
    {
     "name": "stdout",
     "output_type": "stream",
     "text": [
      "For K equals  3  accuracy:  0.8729135053110774\n",
      "For K equals  5  accuracy:  0.834597875569044\n",
      "For K equals  7  accuracy:  0.8076631259484067\n"
     ]
    }
   ],
   "source": [
    "x_train=np.array(training)\n",
    "x_test=np.array(testing)\n",
    "\n",
    "k_list=[3,5,7]\n",
    "for i in k_list:\n",
    "    acc=train_test(i) \n",
    "    print(\"For K equals \",i,\" accuracy: \",acc)\n"
   ]
  },
  {
   "cell_type": "markdown",
   "metadata": {},
   "source": [
    "## Run KNN for best K which is 3"
   ]
  },
  {
   "cell_type": "code",
   "execution_count": 329,
   "metadata": {},
   "outputs": [
    {
     "name": "stdout",
     "output_type": "stream",
     "text": [
      "For K equals  3  accuracy:  0.7833333333333333\n"
     ]
    }
   ],
   "source": [
    "    acc=test(3) \n",
    "    print(\"For K equals \",3,\" accuracy: \",acc)"
   ]
  },
  {
   "cell_type": "markdown",
   "metadata": {},
   "source": [
    "## Append all ones as feature for bias term"
   ]
  },
  {
   "cell_type": "code",
   "execution_count": 312,
   "metadata": {},
   "outputs": [],
   "source": [
    "def append_ones(x):\n",
    "    x = np.hstack((np.ones((x.shape[0],1)), x))\n",
    "    return x"
   ]
  },
  {
   "cell_type": "markdown",
   "metadata": {},
   "source": [
    "## Normalization parameters "
   ]
  },
  {
   "cell_type": "code",
   "execution_count": 313,
   "metadata": {
    "scrolled": true
   },
   "outputs": [],
   "source": [
    "def normalization_parameters(x):\n",
    "    mu = np.mean(x, axis=0)\n",
    "    std = np.std(x, axis=0)\n",
    "    return mu, std"
   ]
  },
  {
   "cell_type": "markdown",
   "metadata": {},
   "source": [
    "## Normalize features"
   ]
  },
  {
   "cell_type": "code",
   "execution_count": 314,
   "metadata": {},
   "outputs": [],
   "source": [
    "def normalize_features(x, mu, std):\n",
    "    x = (x - mu) / (std + 1e-8)\n",
    "    return x"
   ]
  },
  {
   "cell_type": "markdown",
   "metadata": {},
   "source": [
    "## Logistic regression model"
   ]
  },
  {
   "cell_type": "code",
   "execution_count": 315,
   "metadata": {},
   "outputs": [],
   "source": [
    "def f(x, theta):\n",
    "    y = 1.0/(1.0 + np.exp(-np.dot(x, theta)))\n",
    "    return y"
   ]
  },
  {
   "cell_type": "code",
   "execution_count": 316,
   "metadata": {},
   "outputs": [],
   "source": [
    "def predict(x, theta, h, threshold=0.50):\n",
    "    y = h(x, theta)\n",
    "    y = (y>threshold) * 1\n",
    "    return y"
   ]
  },
  {
   "cell_type": "markdown",
   "metadata": {},
   "source": [
    "## Batch gradient descent learning"
   ]
  },
  {
   "cell_type": "code",
   "execution_count": 317,
   "metadata": {},
   "outputs": [],
   "source": [
    "def learn(x, y, theta, h, alpha = 0.1, epsilon=0.001, t_max=2000):\n",
    "    t = 1\n",
    "    J = []\n",
    "    N = x.shape[0]\n",
    "    while True:\n",
    "        e = (h(x, theta) - y)\n",
    "        J.append(1.0/(2*N) * np.sum(e**2))\n",
    "        x_e = (x * e)\n",
    "        theta_ = theta.copy()\n",
    "        theta = theta - alpha * np.mean(x_e, axis=0)[:,np.newaxis]\n",
    "        if t > t_max:\n",
    "            break\n",
    "        t = t + 1\n",
    "    return theta, J"
   ]
  },
  {
   "cell_type": "markdown",
   "metadata": {},
   "source": [
    "## Load data & learn the parameters of the model"
   ]
  },
  {
   "cell_type": "code",
   "execution_count": 318,
   "metadata": {},
   "outputs": [],
   "source": [
    "mu, std = normalization_parameters(x_train[:,:-1])\n",
    "x_train_norm = normalize_features(x_train[:,:-1], mu, std)\n",
    "x_test_norm = normalize_features(x_test[:,:-1], mu, std)\n",
    "x_train_norm_aug = append_ones(x_train_norm)\n",
    "x_test_norm_aug = append_ones(x_test_norm)"
   ]
  },
  {
   "cell_type": "code",
   "execution_count": 319,
   "metadata": {},
   "outputs": [],
   "source": [
    "alpha = 0.01\n",
    "y_train=x_train[:,-1].astype(int)\n",
    "y_train=y_train[:,np.newaxis]\n",
    "y_test=x_test[:,-1].astype(int)\n",
    "y_test=y_test[:,np.newaxis]\n",
    "theta_initial = np.zeros((x_train_norm_aug.shape[1],1))\n",
    "theta_learned, J = learn(x_train_norm_aug,y_train, theta_initial, f, alpha=alpha)"
   ]
  },
  {
   "cell_type": "markdown",
   "metadata": {},
   "source": [
    "## Plot the cost function"
   ]
  },
  {
   "cell_type": "code",
   "execution_count": 320,
   "metadata": {},
   "outputs": [
    {
     "data": {
      "image/png": "[encoded data removed]",
      "text/plain": [
       "<Figure size 432x288 with 1 Axes>"
      ]
     },
     "metadata": {
      "needs_background": "light"
     },
     "output_type": "display_data"
    }
   ],
   "source": [
    "plt.figure()\n",
    "plt.plot(np.arange(len(J)), J)\n",
    "plt.xlabel('epoch #')\n",
    "plt.ylabel(r'$J(\\Theta)$')\n",
    "plt.title(r'$\\alpha={:.4f}$'.format(alpha));"
   ]
  },
  {
   "cell_type": "markdown",
   "metadata": {},
   "source": [
    "## Compute train and test Accuracy"
   ]
  },
  {
   "cell_type": "code",
   "execution_count": 321,
   "metadata": {},
   "outputs": [],
   "source": [
    "y_train_predicted = predict(x_train_norm_aug, theta_learned, f)\n",
    "y_test_predicted = predict(x_test_norm_aug, theta_learned, f)"
   ]
  },
  {
   "cell_type": "code",
   "execution_count": 322,
   "metadata": {},
   "outputs": [],
   "source": [
    "def Acc(pred,act):\n",
    "    cc=0\n",
    "    for i in range(0, len(pred)):\n",
    "        if(pred[i]==act[i]):\n",
    "            cc+=1\n",
    "    return cc/len(pred)"
   ]
  },
  {
   "cell_type": "code",
   "execution_count": 331,
   "metadata": {},
   "outputs": [
    {
     "data": {
      "text/plain": [
       "array([[289,  71],\n",
       "       [ 62, 238]])"
      ]
     },
     "execution_count": 331,
     "metadata": {},
     "output_type": "execute_result"
    }
   ],
   "source": [
    "sklearn.metrics.confusion_matrix(y_test,y_test_predicted)"
   ]
  },
  {
   "cell_type": "code",
   "execution_count": 323,
   "metadata": {},
   "outputs": [
    {
     "name": "stdout",
     "output_type": "stream",
     "text": [
      "Accuracy for training data = 0.846\n",
      "Accuracy for test data = 0.794\n"
     ]
    }
   ],
   "source": [
    "print(\"Accuracy for training data = {:.3f}\".format(Acc(y_train_predicted,y_train)))\n",
    "print(\"Accuracy for test data = {:.3f}\".format(Acc(y_test_predicted,y_test)))"
   ]
  },
  {
   "cell_type": "markdown",
   "metadata": {},
   "source": [
    "## Support vector machine\n",
    "### Compute train and test Accuracy"
   ]
  },
  {
   "cell_type": "code",
   "execution_count": 337,
   "metadata": {},
   "outputs": [
    {
     "name": "stdout",
     "output_type": "stream",
     "text": [
      "Accuracy for training data = 0.930\n",
      "Accuracy for test data = 0.785\n"
     ]
    }
   ],
   "source": [
    "clf = svm.LinearSVC(dual = False)\n",
    "clf.fit(x_train[:,:-1],np.ravel(y_train))\n",
    "y_train_predicted= clf.predict(x_train[:,:-1])\n",
    "y_test_predicted = clf.predict(x_test[:,:-1])\n",
    "\n",
    "print(\"Accuracy for training data = {:.3f}\".format(Acc(y_train_predicted,y_train)))\n",
    "print(\"Accuracy for test data = {:.3f}\".format(Acc(y_test_predicted,y_test)))"
   ]
  },
  {
   "cell_type": "code",
   "execution_count": 338,
   "metadata": {},
   "outputs": [
    {
     "data": {
      "text/plain": [
       "array([[292,  68],\n",
       "       [ 74, 226]])"
      ]
     },
     "execution_count": 338,
     "metadata": {},
     "output_type": "execute_result"
    }
   ],
   "source": [
    "sklearn.metrics.confusion_matrix(y_test,y_test_predicted)"
   ]
  },
  {
   "cell_type": "markdown",
   "metadata": {},
   "source": [
    "## Princle Componet Analysis \n",
    "### dimention reduction"
   ]
  },
  {
   "cell_type": "code",
   "execution_count": 325,
   "metadata": {},
   "outputs": [],
   "source": [
    "pca=PCA(n_components=200)\n",
    "pca.fit(x_train[:,:-1])\n",
    "xtrain_pca=pca.transform(x_train[:,:-1])\n",
    "xtest_pca=pca.transform(x_test[:,:-1])"
   ]
  },
  {
   "cell_type": "markdown",
   "metadata": {},
   "source": [
    "### Compute train and test Accuracy for SVM"
   ]
  },
  {
   "cell_type": "code",
   "execution_count": 326,
   "metadata": {},
   "outputs": [
    {
     "name": "stdout",
     "output_type": "stream",
     "text": [
      "Accuracy for training data = 0.842\n",
      "Accuracy for test data = 0.795\n"
     ]
    }
   ],
   "source": [
    "clf.fit(xtrain_pca,y)\n",
    "y_train_predicted= clf.predict(xtrain_pca)\n",
    "y_test_predicted = clf.predict(xtest_pca)\n",
    "\n",
    "print(\"Accuracy for training data = {:.3f}\".format(Acc(y_train_predicted,y_train)))\n",
    "print(\"Accuracy for test data = {:.3f}\".format(Acc(y_test_predicted,y_test)))"
   ]
  },
  {
   "cell_type": "code",
   "execution_count": 327,
   "metadata": {},
   "outputs": [
    {
     "data": {
      "image/png": "[encoded data removed]",
      "text/plain": [
       "<Figure size 432x288 with 1 Axes>"
      ]
     },
     "metadata": {
      "needs_background": "light"
     },
     "output_type": "display_data"
    }
   ],
   "source": [
    "mu, std = normalization_parameters(xtrain_pca)\n",
    "x_train_norm = normalize_features(xtrain_pca, mu, std)\n",
    "x_test_norm = normalize_features(xtest_pca, mu, std)\n",
    "x_train_norm_aug = append_ones(x_train_norm)\n",
    "x_test_norm_aug = append_ones(x_test_norm)\n",
    "\n",
    "alpha = 0.01\n",
    "y_train=x_train[:,-1].astype(int)\n",
    "y_train=y_train[:,np.newaxis]\n",
    "y_test=x_test[:,-1].astype(int)\n",
    "y_test=y_test[:,np.newaxis]\n",
    "theta_initial = np.zeros((x_train_norm_aug.shape[1],1))\n",
    "theta_learned, J = learn(x_train_norm_aug,y_train, theta_initial, f, alpha=alpha)\n",
    "\n",
    "plt.figure()\n",
    "plt.plot(np.arange(len(J)), J)\n",
    "plt.xlabel('epoch #')\n",
    "plt.ylabel(r'$J(\\Theta)$')\n",
    "plt.title(r'$\\alpha={:.4f}$'.format(alpha));"
   ]
  },
  {
   "cell_type": "code",
   "execution_count": 334,
   "metadata": {},
   "outputs": [
    {
     "name": "stdout",
     "output_type": "stream",
     "text": [
      "Accuracy for training data = 0.841\n",
      "Accuracy for test data = 0.798\n"
     ]
    }
   ],
   "source": [
    "y_train_predicted = predict(x_train_norm_aug, theta_learned, f)\n",
    "y_test_predicted = predict(x_test_norm_aug, theta_learned, f)\n",
    "\n",
    "print(\"Accuracy for training data = {:.3f}\".format(Acc(y_train_predicted,y_train)))\n",
    "print(\"Accuracy for test data = {:.3f}\".format(Acc(y_test_predicted,y_test)))"
   ]
  },
  {
   "cell_type": "code",
   "execution_count": 336,
   "metadata": {},
   "outputs": [
    {
     "data": {
      "text/plain": [
       "array([[289,  71],\n",
       "       [ 62, 238]])"
      ]
     },
     "execution_count": 336,
     "metadata": {},
     "output_type": "execute_result"
    }
   ],
   "source": [
    "sklearn.metrics.confusion_matrix(y_test,y_test_predicted)"
   ]
  },
  {
   "cell_type": "code",
   "execution_count": null,
   "metadata": {},
   "outputs": [],
   "source": []
  }
 ],
 "metadata": {
  "kernelspec": {
   "display_name": "Python 3",
   "language": "python",
   "name": "python3"
  },
  "language_info": {
   "codemirror_mode": {
    "name": "ipython",
    "version": 3
   },
   "file_extension": ".py",
   "mimetype": "text/x-python",
   "name": "python",
   "nbconvert_exporter": "python",
   "pygments_lexer": "ipython3",
   "version": "3.7.7"
  }
 },
 "nbformat": 4,
 "nbformat_minor": 4
}
